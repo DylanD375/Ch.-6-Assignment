{
 "cells": [
  {
   "cell_type": "code",
   "execution_count": 2,
   "id": "1ca38f48",
   "metadata": {},
   "outputs": [
    {
     "data": {
      "text/html": [
       "<style>#sk-container-id-1 {color: black;background-color: white;}#sk-container-id-1 pre{padding: 0;}#sk-container-id-1 div.sk-toggleable {background-color: white;}#sk-container-id-1 label.sk-toggleable__label {cursor: pointer;display: block;width: 100%;margin-bottom: 0;padding: 0.3em;box-sizing: border-box;text-align: center;}#sk-container-id-1 label.sk-toggleable__label-arrow:before {content: \"▸\";float: left;margin-right: 0.25em;color: #696969;}#sk-container-id-1 label.sk-toggleable__label-arrow:hover:before {color: black;}#sk-container-id-1 div.sk-estimator:hover label.sk-toggleable__label-arrow:before {color: black;}#sk-container-id-1 div.sk-toggleable__content {max-height: 0;max-width: 0;overflow: hidden;text-align: left;background-color: #f0f8ff;}#sk-container-id-1 div.sk-toggleable__content pre {margin: 0.2em;color: black;border-radius: 0.25em;background-color: #f0f8ff;}#sk-container-id-1 input.sk-toggleable__control:checked~div.sk-toggleable__content {max-height: 200px;max-width: 100%;overflow: auto;}#sk-container-id-1 input.sk-toggleable__control:checked~label.sk-toggleable__label-arrow:before {content: \"▾\";}#sk-container-id-1 div.sk-estimator input.sk-toggleable__control:checked~label.sk-toggleable__label {background-color: #d4ebff;}#sk-container-id-1 div.sk-label input.sk-toggleable__control:checked~label.sk-toggleable__label {background-color: #d4ebff;}#sk-container-id-1 input.sk-hidden--visually {border: 0;clip: rect(1px 1px 1px 1px);clip: rect(1px, 1px, 1px, 1px);height: 1px;margin: -1px;overflow: hidden;padding: 0;position: absolute;width: 1px;}#sk-container-id-1 div.sk-estimator {font-family: monospace;background-color: #f0f8ff;border: 1px dotted black;border-radius: 0.25em;box-sizing: border-box;margin-bottom: 0.5em;}#sk-container-id-1 div.sk-estimator:hover {background-color: #d4ebff;}#sk-container-id-1 div.sk-parallel-item::after {content: \"\";width: 100%;border-bottom: 1px solid gray;flex-grow: 1;}#sk-container-id-1 div.sk-label:hover label.sk-toggleable__label {background-color: #d4ebff;}#sk-container-id-1 div.sk-serial::before {content: \"\";position: absolute;border-left: 1px solid gray;box-sizing: border-box;top: 0;bottom: 0;left: 50%;z-index: 0;}#sk-container-id-1 div.sk-serial {display: flex;flex-direction: column;align-items: center;background-color: white;padding-right: 0.2em;padding-left: 0.2em;position: relative;}#sk-container-id-1 div.sk-item {position: relative;z-index: 1;}#sk-container-id-1 div.sk-parallel {display: flex;align-items: stretch;justify-content: center;background-color: white;position: relative;}#sk-container-id-1 div.sk-item::before, #sk-container-id-1 div.sk-parallel-item::before {content: \"\";position: absolute;border-left: 1px solid gray;box-sizing: border-box;top: 0;bottom: 0;left: 50%;z-index: -1;}#sk-container-id-1 div.sk-parallel-item {display: flex;flex-direction: column;z-index: 1;position: relative;background-color: white;}#sk-container-id-1 div.sk-parallel-item:first-child::after {align-self: flex-end;width: 50%;}#sk-container-id-1 div.sk-parallel-item:last-child::after {align-self: flex-start;width: 50%;}#sk-container-id-1 div.sk-parallel-item:only-child::after {width: 0;}#sk-container-id-1 div.sk-dashed-wrapped {border: 1px dashed gray;margin: 0 0.4em 0.5em 0.4em;box-sizing: border-box;padding-bottom: 0.4em;background-color: white;}#sk-container-id-1 div.sk-label label {font-family: monospace;font-weight: bold;display: inline-block;line-height: 1.2em;}#sk-container-id-1 div.sk-label-container {text-align: center;}#sk-container-id-1 div.sk-container {/* jupyter's `normalize.less` sets `[hidden] { display: none; }` but bootstrap.min.css set `[hidden] { display: none !important; }` so we also need the `!important` here to be able to override the default hidden behavior on the sphinx rendered scikit-learn.org. See: https://github.com/scikit-learn/scikit-learn/issues/21755 */display: inline-block !important;position: relative;}#sk-container-id-1 div.sk-text-repr-fallback {display: none;}</style><div id=\"sk-container-id-1\" class=\"sk-top-container\"><div class=\"sk-text-repr-fallback\"><pre>DecisionTreeRegressor(max_depth=2)</pre><b>In a Jupyter environment, please rerun this cell to show the HTML representation or trust the notebook. <br />On GitHub, the HTML representation is unable to render, please try loading this page with nbviewer.org.</b></div><div class=\"sk-container\" hidden><div class=\"sk-item\"><div class=\"sk-estimator sk-toggleable\"><input class=\"sk-toggleable__control sk-hidden--visually\" id=\"sk-estimator-id-1\" type=\"checkbox\" checked><label for=\"sk-estimator-id-1\" class=\"sk-toggleable__label sk-toggleable__label-arrow\">DecisionTreeRegressor</label><div class=\"sk-toggleable__content\"><pre>DecisionTreeRegressor(max_depth=2)</pre></div></div></div></div></div>"
      ],
      "text/plain": [
       "DecisionTreeRegressor(max_depth=2)"
      ]
     },
     "execution_count": 2,
     "metadata": {},
     "output_type": "execute_result"
    }
   ],
   "source": [
    "from sklearn.datasets import load_iris\n",
    "from sklearn.tree import DecisionTreeClassifier\n",
    "\n",
    "iris = load_iris()\n",
    "X = iris.data[:, 2:] #petal length and width\n",
    "y = iris.target\n",
    "\n",
    "tree_clf = DecisionTreeClassifier(max_depth = 2)\n",
    "tree_clf.fit(X, y)\n",
    "\n",
    "\n",
    "tree_clf.predict_proba([[5, 1.5]])\n",
    "tree_clf.predict([[5, 1.5]])\n",
    "\n",
    "from sklearn.tree import DecisionTreeRegressor\n",
    "tree_reg = DecisionTreeRegressor(max_depth = 2)\n",
    "tree_reg.fit(X,y)"
   ]
  },
  {
   "cell_type": "code",
   "execution_count": null,
   "id": "95f84656",
   "metadata": {},
   "outputs": [],
   "source": [
    "#I certify that this assignment is entirely my own work."
   ]
  },
  {
   "cell_type": "code",
   "execution_count": 11,
   "id": "9d234ca3",
   "metadata": {},
   "outputs": [
    {
     "name": "stdout",
     "output_type": "stream",
     "text": [
      "Fitting 3 folds for each of 294 candidates, totalling 882 fits\n"
     ]
    },
    {
     "name": "stderr",
     "output_type": "stream",
     "text": [
      "C:\\Users\\raven\\anaconda3\\lib\\site-packages\\sklearn\\model_selection\\_validation.py:378: FitFailedWarning: \n",
      "294 fits failed out of a total of 882.\n",
      "The score on these train-test partitions for these parameters will be set to nan.\n",
      "If these failures are not expected, you can try to debug them by setting error_score='raise'.\n",
      "\n",
      "Below are more details about the failures:\n",
      "--------------------------------------------------------------------------------\n",
      "294 fits failed with the following error:\n",
      "Traceback (most recent call last):\n",
      "  File \"C:\\Users\\raven\\anaconda3\\lib\\site-packages\\sklearn\\model_selection\\_validation.py\", line 686, in _fit_and_score\n",
      "    estimator.fit(X_train, y_train, **fit_params)\n",
      "  File \"C:\\Users\\raven\\anaconda3\\lib\\site-packages\\sklearn\\tree\\_classes.py\", line 969, in fit\n",
      "    super().fit(\n",
      "  File \"C:\\Users\\raven\\anaconda3\\lib\\site-packages\\sklearn\\tree\\_classes.py\", line 265, in fit\n",
      "    check_scalar(\n",
      "  File \"C:\\Users\\raven\\anaconda3\\lib\\site-packages\\sklearn\\utils\\validation.py\", line 1480, in check_scalar\n",
      "    raise ValueError(\n",
      "ValueError: min_samples_split == 1, must be >= 2.\n",
      "\n",
      "  warnings.warn(some_fits_failed_message, FitFailedWarning)\n",
      "C:\\Users\\raven\\anaconda3\\lib\\site-packages\\sklearn\\model_selection\\_search.py:953: UserWarning: One or more of the test scores are non-finite: [       nan 0.77437479 0.77437479        nan 0.81850028 0.81850028\n",
      "        nan 0.85712476 0.85712476        nan 0.85712476 0.85712476\n",
      "        nan 0.85712476 0.85712476        nan 0.85712476 0.85712476\n",
      "        nan 0.85712476 0.85712476        nan 0.85375028 0.85375028\n",
      "        nan 0.85375028 0.85375028        nan 0.85387526 0.85387526\n",
      "        nan 0.84850028 0.84850028        nan 0.84837529 0.84837529\n",
      "        nan 0.84837529 0.84837529        nan 0.84787535 0.84787535\n",
      "        nan 0.84787535 0.84787535        nan 0.84925018 0.84925018\n",
      "        nan 0.84800034 0.84800034        nan 0.84812528 0.84812528\n",
      "        nan 0.84900017 0.84900017        nan 0.84950029 0.84950029\n",
      "        nan 0.84950029 0.84950029        nan 0.84937535 0.84937535\n",
      "        nan 0.84925023 0.84925023        nan 0.84912525 0.84912525\n",
      "        nan 0.85050026 0.85050026        nan 0.85012531 0.85012531\n",
      "        nan 0.85012531 0.85012531        nan 0.85012531 0.85012531\n",
      "        nan 0.85037528 0.85037528        nan 0.85037528 0.85037528\n",
      "        nan 0.85012531 0.85012531        nan 0.85000014 0.85000014\n",
      "        nan 0.8502502  0.8502502         nan 0.85037518 0.85037518\n",
      "        nan 0.84975026 0.84975026        nan 0.84987534 0.84987534\n",
      "        nan 0.84962537 0.84962537        nan 0.8497504  0.8497504\n",
      "        nan 0.85000037 0.85000037        nan 0.85112523 0.85112523\n",
      "        nan 0.85062529 0.85062529        nan 0.85062529 0.85062529\n",
      "        nan 0.85050031 0.85050031        nan 0.85025029 0.85025029\n",
      "        nan 0.85112532 0.85112532        nan 0.85112532 0.85112532\n",
      "        nan 0.85075028 0.85075028        nan 0.85075028 0.85075028\n",
      "        nan 0.85075028 0.85075028        nan 0.85012535 0.85012535\n",
      "        nan 0.85012535 0.85012535        nan 0.84925014 0.84925014\n",
      "        nan 0.84900017 0.84900017        nan 0.84900017 0.84900017\n",
      "        nan 0.84950029 0.84950029        nan 0.84937531 0.84937531\n",
      "        nan 0.84937531 0.84937531        nan 0.84950034 0.84950034\n",
      "        nan 0.8490004  0.8490004         nan 0.85025043 0.85025043\n",
      "        nan 0.85025043 0.85025043        nan 0.8501254  0.8501254\n",
      "        nan 0.84975035 0.84975035        nan 0.84937531 0.84937531\n",
      "        nan 0.84937531 0.84937531        nan 0.84837539 0.84837539\n",
      "        nan 0.84825035 0.84825035        nan 0.84812546 0.84812546\n",
      "        nan 0.84775051 0.84775051        nan 0.84762553 0.84762553\n",
      "        nan 0.84762553 0.84762553        nan 0.84750054 0.84750054\n",
      "        nan 0.84675064 0.84675064        nan 0.84737556 0.84737556\n",
      "        nan 0.84750054 0.84750054        nan 0.84750054 0.84750054\n",
      "        nan 0.84725053 0.84725053        nan 0.84700046 0.84700046\n",
      "        nan 0.84637554 0.84637554        nan 0.84562564 0.84562564\n",
      "        nan 0.84537557 0.84537557        nan 0.8455007  0.8455007\n",
      "        nan 0.8451256  0.8451256         nan 0.8451256  0.8451256\n",
      "        nan 0.8451256  0.8451256         nan 0.8455007  0.8455007\n",
      "        nan 0.8455007  0.8455007         nan 0.8455007  0.8455007\n",
      "        nan 0.84512565 0.84512565        nan 0.8451257  0.8451257\n",
      "        nan 0.84512565 0.84512565        nan 0.84500076 0.84500076\n",
      "        nan 0.84425071 0.84425071        nan 0.8443757  0.8443757\n",
      "        nan 0.84425067 0.84425067        nan 0.84412568 0.84412568\n",
      "        nan 0.84387571 0.84387571        nan 0.84350067 0.84350067]\n",
      "  warnings.warn(\n"
     ]
    },
    {
     "data": {
      "text/plain": [
       "0.858"
      ]
     },
     "execution_count": 11,
     "metadata": {},
     "output_type": "execute_result"
    }
   ],
   "source": [
    "#7. Train and fine-tune a Decision Tree for the moons dataset by following these\n",
    "#steps:\n",
    "#a. Use make_moons(n_samples=10000, noise=0.4) to generate a moons dataset.\n",
    "#b. Use train_test_split() to split the dataset into a training set and a test set.\n",
    "#c. Use grid search with cross-validation (with the help of the GridSearchCV\n",
    "#class) to find good hyperparameter values for a DecisionTreeClassifier.\n",
    "#Hint: try various values for max_leaf_nodes.\n",
    "#d. Train it on the full training set using these hyperparameters, and measure\n",
    "#your model’s performance on the test set. You should get roughly 85% to 87%\n",
    "#accuracy\n",
    "\n",
    "from sklearn.datasets import make_moons\n",
    "from sklearn.model_selection import train_test_split\n",
    "from sklearn.model_selection import GridSearchCV\n",
    "from sklearn.metrics import accuracy_score\n",
    "\n",
    "A, b = make_moons(n_samples = 10000, noise = 0.4)\n",
    "A_train, A_test, b_train, b_test = train_test_split(A, b, test_size = 0.2)\n",
    "parameters = {'max_leaf_nodes': list(range(2, 100)), 'min_samples_split': [1, 2, 3]}\n",
    "grid_search_cv = GridSearchCV(DecisionTreeClassifier(random_state = 42),\n",
    "                             parameters, verbose = 1, cv = 3)\n",
    "grid_search_cv.fit(A_train, b_train)\n",
    "\n",
    "b_predictions = grid_search_cv.predict(A_test)\n",
    "accuracy_score(b_test, b_predictions)"
   ]
  }
 ],
 "metadata": {
  "kernelspec": {
   "display_name": "Python 3 (ipykernel)",
   "language": "python",
   "name": "python3"
  },
  "language_info": {
   "codemirror_mode": {
    "name": "ipython",
    "version": 3
   },
   "file_extension": ".py",
   "mimetype": "text/x-python",
   "name": "python",
   "nbconvert_exporter": "python",
   "pygments_lexer": "ipython3",
   "version": "3.9.12"
  }
 },
 "nbformat": 4,
 "nbformat_minor": 5
}
